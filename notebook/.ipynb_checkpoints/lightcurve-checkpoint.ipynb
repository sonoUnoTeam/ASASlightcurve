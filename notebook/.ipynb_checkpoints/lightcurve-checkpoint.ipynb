{
 "cells": [
  {
   "cell_type": "markdown",
   "id": "87cfbece-a864-456b-83ff-dd3b91d44c54",
   "metadata": {},
   "source": [
    "# Light Curve\n",
    "## @author: sonounoteam"
   ]
  },
  {
   "cell_type": "markdown",
   "id": "ee9bad1f-7420-459b-84e7-3436e2bbce75",
   "metadata": {},
   "source": [
    "# Importes generales"
   ]
  },
  {
   "cell_type": "code",
   "execution_count": 97,
   "id": "b3eb8e77-35d3-432b-a817-023d2c47ca8b",
   "metadata": {},
   "outputs": [],
   "source": [
    "import pandas as pd\n",
    "import argparse\n",
    "import matplotlib\n",
    "import matplotlib.pyplot as plt\n",
    "import numpy as np\n",
    "import sys"
   ]
  },
  {
   "cell_type": "code",
   "execution_count": 98,
   "id": "c5ab2efb-ddb9-4aa5-8add-3ae4efe7684f",
   "metadata": {},
   "outputs": [],
   "source": [
    "from data_transform import predef_math_functions as _math\n",
    "from sound_module.simple_sound import simpleSound"
   ]
  },
  {
   "cell_type": "markdown",
   "id": "7e39ba56-8df4-4e91-9309-05f30f150cbc",
   "metadata": {},
   "source": [
    "### Instanciado las clases necesarias de sonoUno"
   ]
  },
  {
   "cell_type": "code",
   "execution_count": 99,
   "id": "676e5031-36da-482e-9936-6969534935e4",
   "metadata": {},
   "outputs": [],
   "source": [
    "_simplesound = simpleSound()"
   ]
  },
  {
   "cell_type": "markdown",
   "id": "64912783-dfe9-47e9-978d-146a9302741f",
   "metadata": {},
   "source": [
    "### Configuracion de sonido, predefinidas en el momento"
   ]
  },
  {
   "cell_type": "code",
   "execution_count": 100,
   "id": "3ad6fe9f-8d63-4101-8145-03349aa45858",
   "metadata": {},
   "outputs": [],
   "source": [
    "_simplesound.reproductor.set_continuous()\n",
    "_simplesound.reproductor.set_waveform('sine')  # piano; sine\n",
    "_simplesound.reproductor.set_time_base(0.03)\n",
    "_simplesound.reproductor.set_min_freq(380)\n",
    "_simplesound.reproductor.set_max_freq(800)"
   ]
  },
  {
   "cell_type": "markdown",
   "id": "d31fbff8-c268-47cb-90e4-cc2cf30f82ad",
   "metadata": {},
   "source": [
    "### Forzando el path"
   ]
  },
  {
   "cell_type": "code",
   "execution_count": 101,
   "id": "bb9b3ad8-fc09-45a3-8af1-4a5281f91cb0",
   "metadata": {},
   "outputs": [],
   "source": [
    "path = \"data/BEclipsante/RWPhe/ASASSN-V J003016.19-462759.5.csv\"\n",
    "starType = 'RWPhe'\n",
    "\n",
    "data = pd.read_csv(path)\n",
    "toplot = data.copy()"
   ]
  },
  {
   "cell_type": "markdown",
   "id": "9d9ae89a-11a8-4cab-a9b2-0dbc7e90b87e",
   "metadata": {},
   "source": [
    "### Constantes de algunas estrellas variables"
   ]
  },
  {
   "cell_type": "code",
   "execution_count": 102,
   "id": "8f50857a-64e6-4fb5-bcb2-a9a5e524afe1",
   "metadata": {},
   "outputs": [],
   "source": [
    "if starType == 'CGCas':\n",
    "    \"\"\"https://asas-sn.osu.edu/variables/753bdd73-38a7-5e43-b6c0-063292c7f28d\"\"\"\n",
    "    periodo = 4.3652815\n",
    "    t0 = 2457412.70647\n",
    "    BPRP = 0.719\n",
    "elif starType == 'RWPhe':\n",
    "    \"\"\"https://asas-sn.osu.edu/variables/dfa51488-c6b7-5a03-abd4-df3c28273250\"\"\"\n",
    "    periodo = 5.4134367\n",
    "    t0 = 2458053.49761\n",
    "    BPRP = 0.586\n",
    "elif starType == 'V0748Cep':\n",
    "    \"\"\"https://asas-sn.osu.edu/variables/dfcbcf52-8a62-542f-9383-1c712d7c042c\"\"\"\n",
    "    periodo = 2.5093526\n",
    "    t0 = 2458024.93242\n",
    "elif starType == 'ZLep':\n",
    "    \"\"\"https://asas-sn.osu.edu/variables/70cc7024-5027-52f9-a834-75c51f4a5064\"\"\"\n",
    "    periodo = 0.9937068\n",
    "    t0 = 2457699.6236\n",
    "elif starType == 'MNCam':\n",
    "    \"\"\"https://asas-sn.osu.edu/variables/c3faa9d0-6e10-5775-8bb0-075defcd2578\"\"\"\n",
    "    periodo = 8.1796049\n",
    "    t0 = 2458046.08639\n",
    "elif starType == 'HWPup':\n",
    "    \"\"\"https://asas-sn.osu.edu/variables/2083f661-73f5-512f-aee5-fd7ad26d5b30\"\"\"\n",
    "    periodo = 13.4590914\n",
    "    t0 = 2457786.63153\n",
    "else:\n",
    "    print('Error en el tipo de estrella.')"
   ]
  },
  {
   "cell_type": "code",
   "execution_count": 103,
   "id": "0027d759-71dc-4767-86bd-b8c3f831d023",
   "metadata": {},
   "outputs": [],
   "source": [
    "toplot['hjd'] = ((data['hjd'] - t0) / periodo)\n",
    "toplot['hjd'] = (toplot['hjd'] - toplot['hjd'].astype(int))# + BPRP + 1\n",
    "\n",
    "count = 0\n",
    "for i in toplot['hjd']:\n",
    "    if i < 0:\n",
    "        toplot.loc[count,'hjd'] = i + 1\n",
    "    count = count + 1\n",
    "\n",
    "toplot['hjd'] = toplot['hjd'] + BPRP\n",
    "\n",
    "count = 0\n",
    "for i in toplot['hjd']:\n",
    "    if i > 1:\n",
    "        toplot.loc[count,'hjd'] = i - 1\n",
    "    count = count + 1\n",
    "toplotlength = count\n",
    "\n",
    "for i in toplot['hjd']:\n",
    "    toplot.loc[count,'hjd'] = i + 1\n",
    "    toplot.loc[count, 'camera'] = toplot.loc[count-toplotlength, 'camera']\n",
    "    toplot.loc[count, 'mag'] = toplot.loc[count-toplotlength, 'mag']\n",
    "    toplot.loc[count, 'mag_err'] = toplot.loc[count-toplotlength, 'mag_err']\n",
    "    toplot.loc[count, 'flux'] = toplot.loc[count-toplotlength, 'flux']\n",
    "    toplot.loc[count, 'flux_err'] = toplot.loc[count-toplotlength, 'flux_err']\n",
    "    count = count + 1"
   ]
  },
  {
   "cell_type": "code",
   "execution_count": 109,
   "id": "783f7e50-9f3e-4b6d-b792-d6c53376df4f",
   "metadata": {},
   "outputs": [
    {
     "data": {
      "image/png": "[encoded data removed]",
      "text/plain": [
       "<Figure size 640x480 with 1 Axes>"
      ]
     },
     "metadata": {},
     "output_type": "display_data"
    },
    {
     "data": {
      "image/png": "[encoded data removed]",
      "text/plain": [
       "<Figure size 640x480 with 1 Axes>"
      ]
     },
     "metadata": {},
     "output_type": "display_data"
    }
   ],
   "source": [
    "groups = toplot.groupby('camera')\n",
    "if starType == 'CGCas':\n",
    "    bd_toplot = groups.get_group('bd')\n",
    "    bc_toplot = groups.get_group('bc') \n",
    "elif starType == 'RWPhe':\n",
    "    be_toplot = groups.get_group('be')\n",
    "    bf_toplot = groups.get_group('bf') \n",
    "else:\n",
    "    print('Error en el tipo de estrella para separar por grupos.')\n",
    "\n",
    "fig = plt.figure()\n",
    "ax = plt.axes()\n",
    "\n",
    "fig2 = plt.figure()\n",
    "ax2 = plt.axes()\n",
    "\n",
    "ax.set_xlabel('Phase')\n",
    "ax.set_ylabel('Mag')\n",
    "ax.invert_yaxis()\n",
    "ax2.set_xlabel('Phase')\n",
    "ax2.set_ylabel('Mag')\n",
    "ax2.invert_yaxis()\n",
    "rep = True"
   ]
  },
  {
   "cell_type": "markdown",
   "id": "bcf1b805-f164-4088-8ad7-0a762fc23533",
   "metadata": {},
   "source": [
    "### Se genera las distintas reproducciones"
   ]
  },
  {
   "cell_type": "code",
   "execution_count": 107,
   "id": "6acce374-5d3d-49ba-9478-fc6189c6245c",
   "metadata": {},
   "outputs": [],
   "source": [
    "def reproduction(camera1, camera2, camera1text, camera2text, wav_path):\n",
    "    alldata = pd.concat([camera1, camera2])\n",
    "    alldata = alldata.sort_values('hjd')\n",
    "    x_norm, y_norm, status, Error = _math.normalize(alldata['hjd'], alldata['mag'])\n",
    "    y_norm = y_norm.reset_index()\n",
    "\n",
    "    if rep:\n",
    "        ordenada = np.array([alldata['mag'].min(), alldata['mag'].max()])\n",
    "        count = 0\n",
    "        value = _simplesound.invert_values_to_sound(y_norm['mag'])\n",
    "        for index, row in alldata.iterrows():\n",
    "            abscisa = np.array([row['hjd'], row['hjd']])\n",
    "            red_line = ax.plot(abscisa, ordenada, 'r')\n",
    "            red_line2 = ax2.plot(abscisa, ordenada, 'r')\n",
    "            #plt.pause(0.05)\n",
    "            # Make the sound\n",
    "            if row['camera'] == camera1text:\n",
    "                _simplesound.reproductor.set_waveform('sine')\n",
    "                #_simplesound.make_bisound(value[count])\n",
    "                _simplesound.array_bisound(value[count], count, 1, 0)\n",
    "            elif row['camera'] == camera2text:\n",
    "                _simplesound.reproductor.set_waveform('square')\n",
    "                #_simplesound.make_bisound(value[count])\n",
    "                _simplesound.array_bisound(value[count], count, 0, 1)\n",
    "            else:\n",
    "                print('Error en la cámara')\n",
    "            count = count + 1\n",
    "            line = red_line.pop(0)\n",
    "            line.remove()\n",
    "            line = red_line2.pop(0)\n",
    "            line.remove()\n",
    "    #_simplesound.save_invert_freq_sound(wav_path, alldata['hjd'], y_norm['mag'])\n",
    "    _simplesound.save_filebisound(wav_path)"
   ]
  },
  {
   "cell_type": "code",
   "execution_count": 110,
   "id": "7dee3075-01a3-4ae5-a612-8b63d0c8c9b5",
   "metadata": {},
   "outputs": [],
   "source": [
    "if starType == 'CGCas':\n",
    "    ax.set_title('CG-Cas-Cepheid Camera bd')\n",
    "    ax2.set_title('CG-Cas-Cepheid Camera bc')\n",
    "    ax.scatter(bd_toplot['hjd'], bd_toplot['mag'], marker='.', c='#CF3476', label='bd')\n",
    "    ax2.scatter(bc_toplot['hjd'], bc_toplot['mag'], marker='.', c='#E59866', label='bc')\n",
    "    plot_path = 'data/Cefeida/CGCas/cepheid_sonouno.png'\n",
    "    wav_path = 'data/Cefeida/CGCas/cepheid_sonouno.wav'\n",
    "    reproduction(bd_toplot, bc_toplot, 'bd', 'bc', wav_path)\n",
    "    \n",
    "elif starType == 'RWPhe':\n",
    "    ax.set_title('RW-Phe-Eclipsing Binary')\n",
    "    ax.scatter(be_toplot['hjd'], be_toplot['mag'], marker='.', c='k', label='be')\n",
    "    ax.scatter(bf_toplot['hjd'], bf_toplot['mag'], marker='.', c='g', label='bf')\n",
    "    plot_path = 'data/BEclipsante/RWPhe/eclipsante_sonouno.png'\n",
    "    wav_path = 'data/BEclipsante/RWPhe/eclipsante_sonouno.wav'\n",
    "    reproduction(be_toplot, bf_toplot, 'be', 'bf', wav_path)\n",
    "    \n",
    "elif starType == 'V0748Cep':\n",
    "    ax.set_title('V0748-Cep-Eclipsing Binary')\n",
    "elif starType == 'ZLep':\n",
    "    ax.set_title('Z-Lep-Eclipsing Binary')\n",
    "elif starType == 'MNCam':\n",
    "    ax.set_title('MN-Cam-Cepheid')\n",
    "elif starType == 'HWPup':\n",
    "    ax.set_title('HW-Pup-Cepheid')\n",
    "else:\n",
    "    ax.set_title(' ')\n",
    "ax.legend([\"\"], fontsize=\"x-large\") \n",
    "ax2.legend([\"\"], fontsize=\"x-large\")    \n",
    "# Save the plot\n",
    "fig.savefig(plot_path)\n",
    "\n",
    "rep=False\n",
    "if rep:\n",
    "    plt.pause(0.5)\n",
    "    # Showing the above plot\n",
    "    plt.show()\n",
    "    plt.close()"
   ]
  },
  {
   "cell_type": "code",
   "execution_count": null,
   "id": "2eb433aa-87f3-494d-8342-ef89f98e52ac",
   "metadata": {},
   "outputs": [],
   "source": []
  },
  {
   "cell_type": "code",
   "execution_count": null,
   "id": "69d8b090-7cf4-4b23-9023-5551a70469c6",
   "metadata": {},
   "outputs": [],
   "source": []
  },
  {
   "cell_type": "code",
   "execution_count": null,
   "id": "6ae47def-8ad6-43c3-8727-58124449f245",
   "metadata": {},
   "outputs": [],
   "source": []
  }
 ],
 "metadata": {
  "kernelspec": {
   "display_name": "Python 3 (ipykernel)",
   "language": "python",
   "name": "python3"
  },
  "language_info": {
   "codemirror_mode": {
    "name": "ipython",
    "version": 3
   },
   "file_extension": ".py",
   "mimetype": "text/x-python",
   "name": "python",
   "nbconvert_exporter": "python",
   "pygments_lexer": "ipython3",
   "version": "3.11.6"
  }
 },
 "nbformat": 4,
 "nbformat_minor": 5
}
